{
 "cells": [
  {
   "cell_type": "markdown",
   "id": "eeab5442-2dcb-4d11-81a9-d7f2138ae05c",
   "metadata": {
    "tags": []
   },
   "source": [
    "# Experimental - QA \n",
    "**by Instructor Embedding, HF LocalPipline(more model opportunities), Langchain, Chromadb**  \n",
    "\n",
    "\n",
    "Ref:\n",
    "- [Question Answering over Docs](https://python.langchain.com/en/latest/use_cases/question_answering.html)\n",
    "- [Langchain Integration - GPT4All](https://python.langchain.com/en/latest/modules/models/llms/integrations/gpt4all.html)\n",
    "- [Retrieval Question/Answering](https://python.langchain.com/en/latest/modules/chains/index_examples/vector_db_qa.html)\n",
    "- [HKUNLP/instructor-embedding](https://github.com/HKUNLP/instructor-embedding/)\n",
    "- [Hugging Face Hub](https://python.langchain.com/en/latest/modules/models/llms/integrations/huggingface_hub.html)"
   ]
  },
  {
   "cell_type": "markdown",
   "id": "402f52ef-b1ac-417a-8fe8-e74be5fc729a",
   "metadata": {
    "tags": []
   },
   "source": [
    "## Import packages"
   ]
  },
  {
   "cell_type": "code",
   "execution_count": null,
   "id": "ef62d41b-52c3-43d0-8e2b-2294df3b8118",
   "metadata": {
    "tags": []
   },
   "outputs": [],
   "source": [
    "# The Embedding Model\n",
    "from langchain.embeddings import HuggingFaceInstructEmbeddings\n",
    "\n",
    "# The Inference LLM \n",
    "from langchain import HuggingFacePipeline\n",
    "\n",
    "from langchain.vectorstores import Chroma\n",
    "from langchain.text_splitter import CharacterTextSplitter\n",
    "from langchain.chains import RetrievalQA\n",
    "\n",
    "from langchain.prompts import PromptTemplate\n",
    "\n",
    "\n",
    "from langchain.document_loaders import TextLoader\n"
   ]
  },
  {
   "cell_type": "markdown",
   "id": "8f87a779-b49e-427a-af3d-3071642dba89",
   "metadata": {},
   "source": [
    "## Setup models"
   ]
  },
  {
   "cell_type": "code",
   "execution_count": null,
   "id": "6e51f011-8046-4dc8-9ed5-86d9299ba95d",
   "metadata": {
    "tags": []
   },
   "outputs": [],
   "source": [
    "# For embedding\n",
    "model_name = \"hkunlp/instructor-large\"\n",
    "model_kwargs = {'device': 'cuda'}\n",
    "hf_instructor_embedding = HuggingFaceInstructEmbeddings(\n",
    "    model_name=model_name, model_kwargs=model_kwargs\n",
    ")"
   ]
  },
  {
   "cell_type": "code",
   "execution_count": null,
   "id": "68a088d1-3980-4d6c-bd6b-ef8831fe6ddd",
   "metadata": {
    "tags": []
   },
   "outputs": [],
   "source": [
    "\n",
    "# See https://huggingface.co/models?pipeline_tag=text-generation&sort=downloads for some other options\n",
    "model_id = \"bigscience/bloom-560m\"   # \"bigscience/bloom-1b7\"\n",
    "\n",
    "# device -1 => CPU, device > -1 => GPU\n",
    "# Refer to the below doc for model_kargs\n",
    "#     https://huggingface.co/docs/transformers/main_classes/text_generation\n",
    "llm = HuggingFacePipeline.from_model_id(\n",
    "    model_id=model_id, \n",
    "    task=\"text-generation\", \n",
    "    device= 0, \n",
    "    model_kwargs={\"temperature\":0.9, \"max_length\":1024}\n",
    ")"
   ]
  },
  {
   "cell_type": "markdown",
   "id": "49e64f7a-d08a-4b60-99f8-5c84e6042417",
   "metadata": {},
   "source": [
    "## Prepare doc"
   ]
  },
  {
   "cell_type": "code",
   "execution_count": null,
   "id": "cd288048-8a42-4c15-9051-b8c1b3558acc",
   "metadata": {
    "tags": []
   },
   "outputs": [],
   "source": [
    "loader = TextLoader(\"dataset/kxxxxxx.txt\")\n",
    "documents = loader.load()\n",
    "text_splitter = CharacterTextSplitter(chunk_size=512, chunk_overlap=0)\n",
    "texts = text_splitter.split_documents(documents)\n",
    "\n",
    "docsearch = Chroma.from_documents(texts, hf_instructor_embedding)\n"
   ]
  },
  {
   "cell_type": "markdown",
   "id": "2547fd24-9c6c-448b-a307-92a3061454f9",
   "metadata": {},
   "source": [
    "## Prompt and QA module setup"
   ]
  },
  {
   "cell_type": "code",
   "execution_count": null,
   "id": "c3ac9baf-caca-4444-9faf-0f866eccad82",
   "metadata": {
    "tags": []
   },
   "outputs": [],
   "source": [
    "\n",
    "prompt_template = \"\"\"Here is the background:\n",
    "\n",
    "{context}\n",
    "\n",
    "My Question: {question}\n",
    "Answer: \"\"\"\n",
    "\n",
    "PROMPT = PromptTemplate(\n",
    "    template=prompt_template, input_variables=[\"context\", \"question\"]\n",
    ")\n",
    "\n",
    "chain_type_kwargs = {\"prompt\": PROMPT}\n",
    "\n",
    "qa = RetrievalQA.from_chain_type(\n",
    "    llm=llm, \n",
    "    chain_type=\"stuff\", \n",
    "    retriever=docsearch.as_retriever(),\n",
    "    return_source_documents=True,\n",
    "    chain_type_kwargs=chain_type_kwargs\n",
    ")\n",
    "\n"
   ]
  },
  {
   "cell_type": "markdown",
   "id": "73558b29-b454-419f-b91c-568f5c88918c",
   "metadata": {},
   "source": [
    "## Evaluation"
   ]
  },
  {
   "cell_type": "code",
   "execution_count": null,
   "id": "9e901ed0-0cbb-4138-8928-1ec1d97b45b6",
   "metadata": {
    "tags": []
   },
   "outputs": [],
   "source": [
    "%%time\n",
    "\n",
    "\n",
    "query = '''why should I rebuild mcpd database?'''\n",
    "result = qa({\"query\": query})\n"
   ]
  },
  {
   "cell_type": "code",
   "execution_count": null,
   "id": "04c6a878-270f-4488-9769-7ba3a965c3da",
   "metadata": {
    "tags": []
   },
   "outputs": [],
   "source": [
    "%%time\n",
    "\n",
    "query = '''How to rebuild mcpd database on version 16?'''\n",
    "result = qa({\"query\": query})"
   ]
  },
  {
   "cell_type": "code",
   "execution_count": null,
   "id": "44ee8d79-6d1f-4d38-9d37-0ac4ad7e81a2",
   "metadata": {
    "tags": []
   },
   "outputs": [],
   "source": []
  },
  {
   "cell_type": "code",
   "execution_count": null,
   "id": "47a9b7b2-5c7b-417d-9387-444d05381347",
   "metadata": {
    "tags": []
   },
   "outputs": [],
   "source": [
    "print (result['result'])\n",
    "# print ('SORUCE DOC:')\n",
    "# print (result[\"source_documents\"])\n"
   ]
  },
  {
   "cell_type": "code",
   "execution_count": null,
   "id": "63463b09-4220-494e-b50d-d5859460773c",
   "metadata": {},
   "outputs": [],
   "source": []
  }
 ],
 "metadata": {
  "kernelspec": {
   "display_name": "Python 3 (ipykernel)",
   "language": "python",
   "name": "python3"
  },
  "language_info": {
   "codemirror_mode": {
    "name": "ipython",
    "version": 3
   },
   "file_extension": ".py",
   "mimetype": "text/x-python",
   "name": "python",
   "nbconvert_exporter": "python",
   "pygments_lexer": "ipython3",
   "version": "3.8.10"
  }
 },
 "nbformat": 4,
 "nbformat_minor": 5
}
