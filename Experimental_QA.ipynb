{
 "cells": [
  {
   "cell_type": "markdown",
   "id": "eeab5442-2dcb-4d11-81a9-d7f2138ae05c",
   "metadata": {
    "tags": []
   },
   "source": [
    "# Experimental - QA \n",
    "**by Instructor Embedding, GPT4ALL, Langchain, Chromadb**  \n",
    "\n",
    "\n",
    "Ref:\n",
    "- [Question Answering over Docs](https://python.langchain.com/en/latest/use_cases/question_answering.html)\n",
    "- [Langchain Integration - GPT4All](https://python.langchain.com/en/latest/modules/models/llms/integrations/gpt4all.html)\n",
    "- [Retrieval Question/Answering](https://python.langchain.com/en/latest/modules/chains/index_examples/vector_db_qa.html)\n",
    "- [HKUNLP/instructor-embedding](https://github.com/HKUNLP/instructor-embedding/)"
   ]
  },
  {
   "cell_type": "markdown",
   "id": "402f52ef-b1ac-417a-8fe8-e74be5fc729a",
   "metadata": {
    "tags": []
   },
   "source": [
    "## Import packages"
   ]
  },
  {
   "cell_type": "code",
   "execution_count": null,
   "id": "ef62d41b-52c3-43d0-8e2b-2294df3b8118",
   "metadata": {
    "tags": []
   },
   "outputs": [],
   "source": [
    "# The Embedding Model\n",
    "from langchain.embeddings import HuggingFaceInstructEmbeddings\n",
    "\n",
    "# The Inference LLM \n",
    "from langchain.llms import GPT4All\n",
    "\n",
    "from langchain.vectorstores import Chroma\n",
    "from langchain.text_splitter import CharacterTextSplitter\n",
    "from langchain.chains import RetrievalQA\n",
    "\n",
    "from langchain.document_loaders import TextLoader\n"
   ]
  },
  {
   "cell_type": "markdown",
   "id": "8f87a779-b49e-427a-af3d-3071642dba89",
   "metadata": {},
   "source": [
    "## Setup models"
   ]
  },
  {
   "cell_type": "code",
   "execution_count": null,
   "id": "6e51f011-8046-4dc8-9ed5-86d9299ba95d",
   "metadata": {
    "tags": []
   },
   "outputs": [],
   "source": [
    "# For embedding\n",
    "model_name = \"hkunlp/instructor-large\"\n",
    "model_kwargs = {'device': 'cuda'}\n",
    "hf_instructor_embedding = HuggingFaceInstructEmbeddings(\n",
    "    model_name=model_name, model_kwargs=model_kwargs\n",
    ")"
   ]
  },
  {
   "cell_type": "code",
   "execution_count": null,
   "id": "68a088d1-3980-4d6c-bd6b-ef8831fe6ddd",
   "metadata": {
    "tags": []
   },
   "outputs": [],
   "source": [
    "# For LLM\n",
    "model_local_path = './models/'\n",
    "model_name = 'ggml-mpt-7b-instruct.bin'\n",
    "\n",
    "\n",
    "model_full_local_path = model_local_path + model_name\n",
    "llm = GPT4All(model=model_full_local_path, verbose=False, n_predict=2048, n_ctx=512, n_threads=6)"
   ]
  },
  {
   "cell_type": "markdown",
   "id": "49e64f7a-d08a-4b60-99f8-5c84e6042417",
   "metadata": {},
   "source": [
    "## Prepare doc"
   ]
  },
  {
   "cell_type": "code",
   "execution_count": null,
   "id": "cd288048-8a42-4c15-9051-b8c1b3558acc",
   "metadata": {
    "tags": []
   },
   "outputs": [],
   "source": [
    "loader = TextLoader(\"dataset/kxxxxx.txt\")\n",
    "documents = loader.load()\n",
    "text_splitter = CharacterTextSplitter(chunk_size=1024, chunk_overlap=128)\n",
    "texts = text_splitter.split_documents(documents)\n",
    "\n",
    "docsearch = Chroma.from_documents(texts, hf_instructor_embedding)\n",
    "\n",
    "\n",
    "qa = RetrievalQA.from_chain_type(\n",
    "    llm=llm, chain_type=\"stuff\", \n",
    "    retriever=docsearch.as_retriever(),\n",
    "    # return_source_documents=True\n",
    ")\n"
   ]
  },
  {
   "cell_type": "markdown",
   "id": "73558b29-b454-419f-b91c-568f5c88918c",
   "metadata": {},
   "source": [
    "## Evaluation"
   ]
  },
  {
   "cell_type": "code",
   "execution_count": null,
   "id": "9e901ed0-0cbb-4138-8928-1ec1d97b45b6",
   "metadata": {
    "tags": []
   },
   "outputs": [],
   "source": [
    "%%time\n",
    "\n",
    "\n",
    "query = '''why should I rebuild mcpd database?'''\n",
    "result = qa({\"query\": query})"
   ]
  },
  {
   "cell_type": "code",
   "execution_count": null,
   "id": "44ee8d79-6d1f-4d38-9d37-0ac4ad7e81a2",
   "metadata": {
    "tags": []
   },
   "outputs": [],
   "source": [
    "%%time\n",
    "\n",
    "query = '''How can I rebuild mcpd databse on version 16?'''\n",
    "result = qa({\"query\": query})"
   ]
  },
  {
   "cell_type": "code",
   "execution_count": null,
   "id": "9b4f07ba-6ece-4793-8ed1-acf9ca6de2a2",
   "metadata": {},
   "outputs": [],
   "source": [
    "query = '''What consist the main territory?'''\n",
    "result = qa({\"query\": query})\n",
    "print (result[\"result\"])"
   ]
  },
  {
   "cell_type": "code",
   "execution_count": null,
   "id": "06c6e726-6b24-428b-b801-52c3066fe51e",
   "metadata": {},
   "outputs": [],
   "source": []
  }
 ],
 "metadata": {
  "kernelspec": {
   "display_name": "Python 3 (ipykernel)",
   "language": "python",
   "name": "python3"
  },
  "language_info": {
   "codemirror_mode": {
    "name": "ipython",
    "version": 3
   },
   "file_extension": ".py",
   "mimetype": "text/x-python",
   "name": "python",
   "nbconvert_exporter": "python",
   "pygments_lexer": "ipython3",
   "version": "3.8.10"
  }
 },
 "nbformat": 4,
 "nbformat_minor": 5
}
