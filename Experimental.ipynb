{
 "cells": [
  {
   "cell_type": "markdown",
   "id": "13229517-b1b4-4de5-be25-b249118e2d69",
   "metadata": {},
   "source": [
    "# Experimental\n",
    "## Import dependencies\n",
    "## Dataset setup\n",
    "## Model setup\n",
    "\n",
    "\n",
    "TODO, \n",
    "- Fill in details in ToC\n",
    "- import required libs\n",
    "- import models\n",
    "- import some doc, maybe RFC can be good candidate, like TCP HTTP for test and evaluation purpose\n"
   ]
  },
  {
   "cell_type": "code",
   "execution_count": null,
   "id": "971fba3a-b649-4e54-82c2-ae23c93410f4",
   "metadata": {},
   "outputs": [],
   "source": []
  }
 ],
 "metadata": {
  "kernelspec": {
   "display_name": "Python 3 (ipykernel)",
   "language": "python",
   "name": "python3"
  },
  "language_info": {
   "codemirror_mode": {
    "name": "ipython",
    "version": 3
   },
   "file_extension": ".py",
   "mimetype": "text/x-python",
   "name": "python",
   "nbconvert_exporter": "python",
   "pygments_lexer": "ipython3",
   "version": "3.8.10"
  }
 },
 "nbformat": 4,
 "nbformat_minor": 5
}
