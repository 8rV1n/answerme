{
 "cells": [
  {
   "cell_type": "markdown",
   "id": "13229517-b1b4-4de5-be25-b249118e2d69",
   "metadata": {},
   "source": [
    "# Experimental\n"
   ]
  },
  {
   "cell_type": "markdown",
   "id": "29527676-3553-48ad-946a-7c770ca32df0",
   "metadata": {},
   "source": [
    "## Import dependencies"
   ]
  },
  {
   "cell_type": "code",
   "execution_count": null,
   "id": "87fe0700-f1be-4a2b-a09f-825060c150a5",
   "metadata": {
    "tags": []
   },
   "outputs": [],
   "source": [
    "import gpt4all\n"
   ]
  },
  {
   "cell_type": "markdown",
   "id": "f8e9dd2e-52cb-434b-8ec7-87ee95b44aeb",
   "metadata": {},
   "source": [
    "## Model setup"
   ]
  },
  {
   "cell_type": "code",
   "execution_count": null,
   "id": "e67ad2f5-ab0f-4040-a7ce-5da5b5eff61b",
   "metadata": {
    "tags": []
   },
   "outputs": [],
   "source": [
    "model_path = './models/'\n",
    "\n",
    "gptj = gpt4all.GPT4All(\n",
    "    model_name = \"ggml-mpt-7b-instruct.bin\", \n",
    "    model_path=model_path\n",
    ")"
   ]
  },
  {
   "cell_type": "code",
   "execution_count": null,
   "id": "aabf8139-1aa5-43b5-85b7-7bde8ede98cc",
   "metadata": {},
   "outputs": [],
   "source": [
    "# Run model on prompt\n",
    "# messages = [{\"role\": \"programer specialist\", \"content\": \"write a Angular project for Question and Answer purpose\"}]\n",
    "# response = gptj.chat_completion(messages)\n",
    "\n",
    "# print (response)"
   ]
  },
  {
   "cell_type": "code",
   "execution_count": 5,
   "id": "9860b01e-a586-4436-a791-7446d7706a08",
   "metadata": {
    "tags": []
   },
   "outputs": [
    {
     "name": "stdout",
     "output_type": "stream",
     "text": [
      "The area of ​​the municipality is about 1,000 km2. It has a population of about 20,000 inhabitants.The municipality is located in the south of France, between Montpellier and Nîmes.It is located in the heart of a region called \"La Côte Vermeille\" (The Pink Coast) because of the many vineyards that surround it.The climate is Mediterranean, with hot summers and mild winters.The municipality is crossed by the river La Jonte.The municipality of Saint-Chély is located in the heart of a region called \"La Côte Vermeille\" (The Pink Coast) because of"
     ]
    },
    {
     "name": "stderr",
     "output_type": "stream",
     "text": [
      "Exception ignored on calling ctypes callback function: <function LLModel._response_callback at 0x7ff4dc7f4e50>\n",
      "Traceback (most recent call last):\n",
      "  File \"/home/arvin/.local/lib/python3.8/site-packages/gpt4all/pyllmodel.py\", line 239, in _response_callback\n",
      "    @staticmethod\n",
      "KeyboardInterrupt: \n"
     ]
    },
    {
     "name": "stdout",
     "output_type": "stream",
     "text": [
      " many vineyards that surround it.\n",
      "CPU times: user 5min 20s, sys: 575 ms, total: 5min 21s\n",
      "Wall time: 1min 40s\n"
     ]
    },
    {
     "data": {
      "text/plain": [
       "'The area of \\u200b\\u200bthe municipality is about 1,000 km2. It has a population of about 20,000 inhabitants.The municipality is located in the south of France, between Montpellier and Nîmes.It is located in the heart of a region called \"La Côte Vermeille\" (The Pink Coast) because of the many vineyards that surround it.The climate is Mediterranean, with hot summers and mild winters.The municipality is crossed by the river La Jonte.The municipality of Saint-Chély is located in the heart of a region called \"La Côte Vermeille\" (The Pink Coast) because of many vineyards that surround it.'"
      ]
     },
     "execution_count": 5,
     "metadata": {},
     "output_type": "execute_result"
    }
   ],
   "source": [
    "%%time\n",
    "gptj.generate(\"What consist the main territory?\",n_predict=8192)"
   ]
  },
  {
   "cell_type": "markdown",
   "id": "76376503-a621-4cff-b6b1-156e8db710d4",
   "metadata": {},
   "source": []
  }
 ],
 "metadata": {
  "kernelspec": {
   "display_name": "Python 3 (ipykernel)",
   "language": "python",
   "name": "python3"
  },
  "language_info": {
   "codemirror_mode": {
    "name": "ipython",
    "version": 3
   },
   "file_extension": ".py",
   "mimetype": "text/x-python",
   "name": "python",
   "nbconvert_exporter": "python",
   "pygments_lexer": "ipython3",
   "version": "3.8.10"
  }
 },
 "nbformat": 4,
 "nbformat_minor": 5
}
