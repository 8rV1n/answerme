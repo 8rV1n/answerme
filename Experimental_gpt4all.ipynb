{
 "cells": [
  {
   "cell_type": "markdown",
   "id": "13229517-b1b4-4de5-be25-b249118e2d69",
   "metadata": {},
   "source": [
    "# Experimental\n",
    "\n",
    "\n",
    "\n",
    "\n",
    "\n",
    "TODO, \n",
    "- Fill in details in ToC\n",
    "- import required libs\n",
    "- import models\n",
    "- import some doc, maybe RFC can be good candidate, like TCP HTTP for test and evaluation purpose\n"
   ]
  },
  {
   "cell_type": "markdown",
   "id": "29527676-3553-48ad-946a-7c770ca32df0",
   "metadata": {},
   "source": [
    "## Import dependencies"
   ]
  },
  {
   "cell_type": "code",
   "execution_count": null,
   "id": "87fe0700-f1be-4a2b-a09f-825060c150a5",
   "metadata": {
    "tags": []
   },
   "outputs": [],
   "source": [
    "import gpt4all\n"
   ]
  },
  {
   "cell_type": "markdown",
   "id": "2b3ade8e-594d-47d8-afd7-7060d8ea8cc5",
   "metadata": {},
   "source": [
    "## Dataset setup\n"
   ]
  },
  {
   "cell_type": "code",
   "execution_count": null,
   "id": "bbb17e3c-065d-4452-a8c2-f30832920eb0",
   "metadata": {
    "tags": []
   },
   "outputs": [],
   "source": [
    "# Ideally....\n",
    "loader = TextLoader('./dataset/rfc2616.txt')"
   ]
  },
  {
   "cell_type": "markdown",
   "id": "f8e9dd2e-52cb-434b-8ec7-87ee95b44aeb",
   "metadata": {},
   "source": [
    "## Model setup"
   ]
  },
  {
   "cell_type": "code",
   "execution_count": null,
   "id": "e67ad2f5-ab0f-4040-a7ce-5da5b5eff61b",
   "metadata": {
    "tags": []
   },
   "outputs": [],
   "source": [
    "model_path = './models/'\n",
    "\n",
    "gptj = gpt4all.GPT4All(\n",
    "    model_name = \"ggml-mpt-7b-chat.bin\", \n",
    "    model_path=model_path\n",
    ")"
   ]
  },
  {
   "cell_type": "code",
   "execution_count": null,
   "id": "aabf8139-1aa5-43b5-85b7-7bde8ede98cc",
   "metadata": {},
   "outputs": [],
   "source": [
    "# Run model on prompt\n",
    "# messages = [{\"role\": \"programer specialist\", \"content\": \"write a Angular project for Question and Answer purpose\"}]\n",
    "# response = gptj.chat_completion(messages)\n",
    "\n",
    "# print (response)"
   ]
  },
  {
   "cell_type": "code",
   "execution_count": null,
   "id": "9860b01e-a586-4436-a791-7446d7706a08",
   "metadata": {
    "tags": []
   },
   "outputs": [],
   "source": [
    "%%time\n",
    "gptj.generate(\"write python code for Red Black tree algorithm\",n_predict=8192)"
   ]
  },
  {
   "cell_type": "code",
   "execution_count": null,
   "id": "5c7ef90d-8c03-47fe-b6fa-f7156a46a30a",
   "metadata": {
    "tags": []
   },
   "outputs": [],
   "source": [
    "%%time\n",
    "gptj.generate(\"continue\")"
   ]
  },
  {
   "cell_type": "markdown",
   "id": "76376503-a621-4cff-b6b1-156e8db710d4",
   "metadata": {},
   "source": []
  },
  {
   "cell_type": "code",
   "execution_count": null,
   "id": "8d5b74f2-9acf-4d9a-b1d8-44f7a89218e9",
   "metadata": {},
   "outputs": [],
   "source": [
    "template = \"\"\"\n",
    "Question: {question}\n",
    "Answer: Let's think step by step.\n",
    "\"\"\"\n",
    "\n",
    "prompt = PromptTemplate(template=template, input_variables=[\"question\"])"
   ]
  }
 ],
 "metadata": {
  "kernelspec": {
   "display_name": "Python 3 (ipykernel)",
   "language": "python",
   "name": "python3"
  },
  "language_info": {
   "codemirror_mode": {
    "name": "ipython",
    "version": 3
   },
   "file_extension": ".py",
   "mimetype": "text/x-python",
   "name": "python",
   "nbconvert_exporter": "python",
   "pygments_lexer": "ipython3",
   "version": "3.8.10"
  }
 },
 "nbformat": 4,
 "nbformat_minor": 5
}
