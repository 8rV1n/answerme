{
 "cells": [
  {
   "cell_type": "markdown",
   "id": "a35cbfe2-7aff-4734-b237-ef0230f66563",
   "metadata": {},
   "source": [
    "# Experimental - Langchain + GPT4ALL"
   ]
  },
  {
   "cell_type": "code",
   "execution_count": null,
   "id": "0d4acc45-16c1-475d-bd3f-8d5ce9d80f3f",
   "metadata": {},
   "outputs": [],
   "source": [
    "# Import Package"
   ]
  },
  {
   "cell_type": "code",
   "execution_count": null,
   "id": "e03c3cc3-da73-400b-9608-0d9c40cc8152",
   "metadata": {},
   "outputs": [],
   "source": [
    "from langchain import PromptTemplate, LLMChain\n",
    "from langchain.llms import GPT4All\n",
    "from langchain.callbacks.streaming_stdout import StreamingStdOutCallbackHandler"
   ]
  },
  {
   "cell_type": "code",
   "execution_count": null,
   "id": "7079a966-9005-4d31-a26b-d5238bef4568",
   "metadata": {},
   "outputs": [],
   "source": []
  },
  {
   "cell_type": "code",
   "execution_count": null,
   "id": "6d4e839f-ad0b-42e6-985d-d36bc5abc38d",
   "metadata": {},
   "outputs": [],
   "source": []
  },
  {
   "cell_type": "code",
   "execution_count": null,
   "id": "94bfdcc0-11f6-4d87-8927-e92044d96015",
   "metadata": {},
   "outputs": [],
   "source": []
  },
  {
   "cell_type": "code",
   "execution_count": null,
   "id": "a83577f6-aef0-4740-9262-cdbb81bdbf90",
   "metadata": {},
   "outputs": [],
   "source": []
  }
 ],
 "metadata": {
  "kernelspec": {
   "display_name": "Python 3 (ipykernel)",
   "language": "python",
   "name": "python3"
  },
  "language_info": {
   "codemirror_mode": {
    "name": "ipython",
    "version": 3
   },
   "file_extension": ".py",
   "mimetype": "text/x-python",
   "name": "python",
   "nbconvert_exporter": "python",
   "pygments_lexer": "ipython3",
   "version": "3.8.10"
  }
 },
 "nbformat": 4,
 "nbformat_minor": 5
}
